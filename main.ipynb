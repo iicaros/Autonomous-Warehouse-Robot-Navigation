{
 "cells": [
  {
   "cell_type": "code",
   "execution_count": 1,
   "id": "8143d863-b375-4f8d-8001-afd1e8e9eb29",
   "metadata": {
    "jupyter": {
     "source_hidden": true
    }
   },
   "outputs": [
    {
     "name": "stdout",
     "output_type": "stream",
     "text": [
      "Original Grid:\n",
      "S . . . .\n",
      "X X . X .\n",
      ". P P . .\n",
      ". X . . D\n",
      ". . . X .\n",
      "\n",
      "Path: [(0, 0), (0, 1), (0, 2), (1, 2), (2, 2), (3, 2), (3, 3), (3, 4)]\n",
      "Total cost: 6.5 \n",
      "\n",
      "Grid with Path:\n",
      "S * * . .\n",
      "X X * X .\n",
      ". P * . .\n",
      ". X * * D\n",
      ". . . X .\n",
      "\n"
     ]
    },
    {
     "data": {
      "image/png": "[encoded data removed]",
      "text/plain": [
       "<Figure size 800x800 with 1 Axes>"
      ]
     },
     "metadata": {},
     "output_type": "display_data"
    }
   ],
   "source": [
    "import matplotlib.pyplot as plt\n",
    "import numpy as np\n",
    "\n",
    "class DijkstraPathfinder:\n",
    "    def __init__(self, grid):\n",
    "        self.grid = grid\n",
    "        self.rows = len(grid)\n",
    "        self.cols = len(grid[0])\n",
    "        self.directions = [(-1, 0), (1, 0), (0, -1), (0, 1)]\n",
    "        self.cost_map = {\n",
    "            '.': 1,\n",
    "            'P': 0.5,\n",
    "            'S': 0,\n",
    "            'D': 1\n",
    "        }\n",
    "\n",
    "    def get_cost(self, current, neighbor, direction):\n",
    "        r, c = neighbor\n",
    "        cell = self.grid[r][c]\n",
    "        move_cost = self.cost_map.get(cell, 1)\n",
    "        return move_cost\n",
    "\n",
    "    def get_neighbors(self, r, c):\n",
    "        for dr, dc in self.directions:\n",
    "            nr, nc = r + dr, c + dc\n",
    "            if 0 <= nr < self.rows and 0 <= nc < self.cols and self.grid[nr][nc] != 'X':\n",
    "                yield (nr, nc), (dr, dc)\n",
    "\n",
    "    def dijkstra(self, start, destination):\n",
    "        unvisited = set((r, c) for r in range(self.rows) for c in range(self.cols) if self.grid[r][c] != 'X')\n",
    "        costs = {pos: float('inf') for pos in unvisited}                                                                 # Sets initial costs to infinity other than start\n",
    "        parents = {}\n",
    "        costs[start] = 0\n",
    "\n",
    "\n",
    "                                                                                                                        \n",
    "        while unvisited:                                                                                                 # Main loop\n",
    "            current = min(unvisited, key=lambda pos: costs[pos])                                                         # selects smallest cost\n",
    "            if current == destination:                                                                                   # exits loop on reaching destination\n",
    "                break\n",
    "\n",
    "            unvisited.remove(current)\n",
    "            r, c = current\n",
    "\n",
    "            for neighbor, direction in self.get_neighbors(r, c):                                                         # checks neighbors weights\n",
    "                if neighbor not in unvisited:\n",
    "                    continue\n",
    "                new_cost = costs[current] + self.get_cost(current, neighbor, direction)\n",
    "                if new_cost < costs[neighbor]:\n",
    "                    costs[neighbor] = new_cost\n",
    "                    parents[neighbor] = current\n",
    "\n",
    "        path = []                                                                                                        # Reconstructs the path using parent pointers\n",
    "        cur = destination\n",
    "        while cur in parents:\n",
    "            path.append(cur)\n",
    "            cur = parents[cur]\n",
    "        if cur == start:                                                                                                 # reverses the list\n",
    "            path.append(start)\n",
    "            path.reverse()\n",
    "            return costs[destination], path\n",
    "        else:       \n",
    "            return float('inf'), []                                                                                      # no path\n",
    "\n",
    "\n",
    "def find_start_end(grid):                                                                                                # finds start and end\n",
    "    start = end = None\n",
    "    for r in range(len(grid)):\n",
    "        for c in range(len(grid[0])):\n",
    "            if grid[r][c] == 'S':\n",
    "                start = (r, c)\n",
    "            elif grid[r][c] == 'D':\n",
    "                end = (r, c)\n",
    "    return start, end\n",
    "\n",
    "def grid_path_visualization(grid, path):                                                                                # visualizes the grid and path using matplotlib\n",
    "    plot_grid = np.zeros((len(grid), len(grid[0])))\n",
    "\n",
    "    for r in range(len(grid)):\n",
    "        for c in range(len(grid[0])):\n",
    "            cell = grid[r][c]\n",
    "            if cell == 'S':\n",
    "                plot_grid[r][c] = 2\n",
    "            elif cell == 'D':\n",
    "                plot_grid[r][c] = 3\n",
    "            elif cell == 'X':\n",
    "                plot_grid[r][c] = 1\n",
    "            elif cell == 'P':\n",
    "                plot_grid[r][c] = 0.5\n",
    "            else:\n",
    "                plot_grid[r][c] = 0\n",
    "\n",
    "    fig, ax = plt.subplots(figsize=(8, 8))\n",
    "    ax.imshow(plot_grid, cmap='gray', interpolation='nearest')\n",
    "\n",
    "    ax.set_xticks(np.arange(-0.5, len(grid[0]), 1), minor=True)\n",
    "    ax.set_yticks(np.arange(-0.5, len(grid), 1), minor=True)\n",
    "    ax.grid(which='minor', color='black', linestyle='-', linewidth=2)\n",
    "\n",
    "    for r in range(len(grid)):\n",
    "        for c in range(len(grid[0])):\n",
    "            cell = grid[r][c]\n",
    "            if cell in ['S', 'D']:\n",
    "                ax.text(c, r, cell, ha='center', va='center', color='blue', fontsize=12)\n",
    "            else:\n",
    "                ax.text(c, r, cell, ha='center', va='center', color='white', fontsize=12)\n",
    "\n",
    "    for (r, c) in path:\n",
    "        ax.add_patch(plt.Rectangle((c - 0.5, r - 0.5), 1, 1, color='green', alpha=0.5))\n",
    "\n",
    "    plt.show()\n",
    "\n",
    "def print_grid_with_path(grid, path):\n",
    "    # grid copy to append path\n",
    "    grid_with_path = [row.copy() for row in grid]\n",
    "\n",
    "    for (r, c) in path:\n",
    "        if grid_with_path[r][c] not in ('S', 'D'):\n",
    "            grid_with_path[r][c] = '*'\n",
    "\n",
    "    print(\"Grid with Path:\")\n",
    "    for row in grid_with_path:\n",
    "        print(' '.join(row))\n",
    "    print()\n",
    "\n",
    "\n",
    "# usages\n",
    "warehouse_map = [\n",
    "    ['S', '.', '.', '.', '.'],\n",
    "    ['X', 'X', '.', 'X', '.'],\n",
    "    ['.', 'P', 'P', '.', '.'],\n",
    "    ['.', 'X', '.', '.', 'D'],\n",
    "    ['.', '.', '.', 'X', '.']\n",
    "]\n",
    "\n",
    "start, end = find_start_end(warehouse_map)\n",
    "pathfinder = DijkstraPathfinder(warehouse_map)\n",
    "total_cost, path = pathfinder.dijkstra(start, end)\n",
    "\n",
    "if path:\n",
    "    print(\"Original Grid:\")\n",
    "    for row in warehouse_map:\n",
    "        print(' '.join(row))\n",
    "    print()\n",
    "\n",
    "    print(\"Path:\", path)\n",
    "    print(\"Total cost:\", total_cost, \"\\n\")\n",
    "    print_grid_with_path(warehouse_map, path)\n",
    "\n",
    "    grid_path_visualization(warehouse_map, path)\n",
    "else:\n",
    "    print(\"No path found.\")\n"
   ]
  },
  {
   "cell_type": "code",
   "execution_count": 8,
   "id": "1db2f77b-cee2-4a5a-8f50-0c7e06fe7861",
   "metadata": {
    "jupyter": {
     "source_hidden": true
    }
   },
   "outputs": [
    {
     "name": "stdout",
     "output_type": "stream",
     "text": [
      "NO OBSTACLE Grid:\n",
      "S . . . .\n",
      ". . . . .\n",
      ". . . . .\n",
      ". . . . .\n",
      ". . . . D\n",
      "\n",
      "Path: [(0, 0), (1, 0), (2, 0), (3, 0), (3, 1), (3, 2), (3, 3), (3, 4), (4, 4)]\n",
      "Total cost: 8 \n",
      "\n",
      "Grid with Path:\n",
      "S . . . .\n",
      "* . . . .\n",
      "* . . . .\n",
      "* * * * *\n",
      ". . . . D\n",
      "\n"
     ]
    },
    {
     "data": {
      "image/png": "[encoded data removed]",
      "text/plain": [
       "<Figure size 800x800 with 1 Axes>"
      ]
     },
     "metadata": {},
     "output_type": "display_data"
    }
   ],
   "source": [
    "# Test Case 1: No Obstacles\n",
    "warehouse_map = [\n",
    "    ['S', '.', '.', '.', '.'],\n",
    "    ['.', '.', '.', '.', '.'],\n",
    "    ['.', '.', '.', '.', '.'],\n",
    "    ['.', '.', '.', '.', '.'],\n",
    "    ['.', '.', '.', '.', 'D']\n",
    "]\n",
    "\n",
    "start, end = find_start_end(warehouse_map)\n",
    "pathfinder = DijkstraPathfinder(warehouse_map)\n",
    "total_cost, path = pathfinder.dijkstra(start, end)\n",
    "\n",
    "if path:\n",
    "    print(\"NO OBSTACLE Grid:\")\n",
    "    for row in warehouse_map:\n",
    "        print(' '.join(row))\n",
    "    print()\n",
    "\n",
    "    print(\"Path:\", path)\n",
    "    print(\"Total cost:\", total_cost, \"\\n\")\n",
    "    print_grid_with_path(warehouse_map, path)\n",
    "\n",
    "    grid_path_visualization(warehouse_map, path)\n",
    "else:\n",
    "    print(\"No path found.\")"
   ]
  },
  {
   "cell_type": "code",
   "execution_count": 7,
   "id": "a8c58a83-b09a-4b9d-a053-433fa9f2a823",
   "metadata": {
    "jupyter": {
     "source_hidden": true
    }
   },
   "outputs": [
    {
     "name": "stdout",
     "output_type": "stream",
     "text": [
      "OBSTACLES PRESENT Grid:\n",
      "S . X . .\n",
      "X . X . .\n",
      ". . . . .\n",
      ". . . . .\n",
      ". . . . D\n",
      "\n",
      "Path: [(0, 0), (0, 1), (1, 1), (2, 1), (3, 1), (3, 2), (3, 3), (3, 4), (4, 4)]\n",
      "Total cost: 8 \n",
      "\n",
      "Grid with Path:\n",
      "S * X . .\n",
      "X * X . .\n",
      ". * . . .\n",
      ". * * * *\n",
      ". . . . D\n",
      "\n"
     ]
    },
    {
     "data": {
      "image/png": "[encoded data removed]",
      "text/plain": [
       "<Figure size 800x800 with 1 Axes>"
      ]
     },
     "metadata": {},
     "output_type": "display_data"
    }
   ],
   "source": [
    "# Test Case 2: Obstacles Present\n",
    "warehouse_map = [\n",
    "    ['S', '.', 'X', '.', '.'],\n",
    "    ['X', '.', 'X', '.', '.'],\n",
    "    ['.', '.', '.', '.', '.'],\n",
    "    ['.', '.', '.', '.', '.'],\n",
    "    ['.', '.', '.', '.', 'D']\n",
    "]\n",
    "\n",
    "start, end = find_start_end(warehouse_map)\n",
    "pathfinder = DijkstraPathfinder(warehouse_map)\n",
    "total_cost, path = pathfinder.dijkstra(start, end)\n",
    "\n",
    "if path:\n",
    "    print(\"OBSTACLES PRESENT Grid:\")\n",
    "    for row in warehouse_map:\n",
    "        print(' '.join(row))\n",
    "    print()\n",
    "\n",
    "    print(\"Path:\", path)\n",
    "    print(\"Total cost:\", total_cost, \"\\n\")\n",
    "    print_grid_with_path(warehouse_map, path)\n",
    "\n",
    "    grid_path_visualization(warehouse_map, path)\n",
    "else:\n",
    "    print(\"No path found.\")"
   ]
  },
  {
   "cell_type": "code",
   "execution_count": 10,
   "id": "b59a19c0-c88b-4d31-8a29-f6170827a67c",
   "metadata": {
    "jupyter": {
     "source_hidden": true
    }
   },
   "outputs": [
    {
     "name": "stdout",
     "output_type": "stream",
     "text": [
      "PRIORITY PATHWAYS Grid:\n",
      "S . . . .\n",
      "X X P P .\n",
      ". . . . .\n",
      ". . . . .\n",
      ". X . . D\n",
      "\n",
      "Path: [(0, 0), (0, 1), (0, 2), (1, 2), (1, 3), (2, 3), (3, 3), (3, 4), (4, 4)]\n",
      "Total cost: 7.0 \n",
      "\n",
      "Grid with Path:\n",
      "S * * . .\n",
      "X X * * .\n",
      ". . . * .\n",
      ". . . * *\n",
      ". X . . D\n",
      "\n"
     ]
    },
    {
     "data": {
      "image/png": "[encoded data removed]",
      "text/plain": [
       "<Figure size 800x800 with 1 Axes>"
      ]
     },
     "metadata": {},
     "output_type": "display_data"
    }
   ],
   "source": [
    "# Test Case 3: PRIORITY PATHWAYS\n",
    "warehouse_map = [\n",
    "    ['S', '.', '.', '.', '.'],\n",
    "    ['X', 'X', 'P', 'P', '.'],\n",
    "    ['.', '.', '.', '.', '.'],\n",
    "    ['.', '.', '.', '.', '.'],\n",
    "    ['.', 'X', '.', '.', 'D']\n",
    "]\n",
    "\n",
    "start, end = find_start_end(warehouse_map)\n",
    "pathfinder = DijkstraPathfinder(warehouse_map)\n",
    "total_cost, path = pathfinder.dijkstra(start, end)\n",
    "\n",
    "if path:\n",
    "    print(\"PRIORITY PATHWAYS Grid:\")\n",
    "    for row in warehouse_map:\n",
    "        print(' '.join(row))\n",
    "    print()\n",
    "\n",
    "    print(\"Path:\", path)\n",
    "    print(\"Total cost:\", total_cost, \"\\n\")\n",
    "    print_grid_with_path(warehouse_map, path)\n",
    "\n",
    "    grid_path_visualization(warehouse_map, path)\n",
    "else:\n",
    "    print(\"No path found.\")"
   ]
  },
  {
   "cell_type": "code",
   "execution_count": 14,
   "id": "35050ab9-0bd6-4a7b-a0b2-097167294920",
   "metadata": {
    "jupyter": {
     "source_hidden": true
    }
   },
   "outputs": [
    {
     "name": "stdout",
     "output_type": "stream",
     "text": [
      "NO PATH Grid:\n",
      "S X . . .\n",
      "X X . . .\n",
      ". . . . .\n",
      ". . . . .\n",
      ". . . . D\n",
      "\n"
     ]
    },
    {
     "data": {
      "image/png": "[encoded data removed]",
      "text/plain": [
       "<Figure size 800x800 with 1 Axes>"
      ]
     },
     "metadata": {},
     "output_type": "display_data"
    },
    {
     "name": "stdout",
     "output_type": "stream",
     "text": [
      "No path found.\n"
     ]
    }
   ],
   "source": [
    "# Test Case 4: NO PATH\n",
    "warehouse_map = [\n",
    "    ['S', 'X', '.', '.', '.'],\n",
    "    ['X', 'X', '.', '.', '.'],\n",
    "    ['.', '.', '.', '.', '.'],\n",
    "    ['.', '.', '.', '.', '.'],\n",
    "    ['.', '.', '.', '.', 'D']\n",
    "]\n",
    "\n",
    "start, end = find_start_end(warehouse_map)\n",
    "pathfinder = DijkstraPathfinder(warehouse_map)\n",
    "total_cost, path = pathfinder.dijkstra(start, end)\n",
    "\n",
    "if path:\n",
    "    print(\"NO PATH Grid:\")\n",
    "    for row in warehouse_map:\n",
    "        print(' '.join(row))\n",
    "    print()\n",
    "\n",
    "    print(\"Path:\", path)\n",
    "    print(\"Total cost:\", total_cost, \"\\n\")\n",
    "    print_grid_with_path(warehouse_map, path)\n",
    "\n",
    "    grid_path_visualization(warehouse_map, path)\n",
    "else:\n",
    "    print(\"NO PATH Grid:\")\n",
    "    for row in warehouse_map:\n",
    "        print(' '.join(row))\n",
    "    print()\n",
    "    grid_path_visualization(warehouse_map, path)\n",
    "    \n",
    "    print(\"No path found.\")"
   ]
  },
  {
   "cell_type": "code",
   "execution_count": null,
   "id": "d95893c4-0d71-47bc-a90d-aab73461407f",
   "metadata": {},
   "outputs": [],
   "source": []
  }
 ],
 "metadata": {
  "kernelspec": {
   "display_name": "Python 3",
   "language": "python",
   "name": "python3"
  },
  "language_info": {
   "codemirror_mode": {
    "name": "ipython",
    "version": 3
   },
   "file_extension": ".py",
   "mimetype": "text/x-python",
   "name": "python",
   "nbconvert_exporter": "python",
   "pygments_lexer": "ipython3",
   "version": "3.9.7"
  }
 },
 "nbformat": 4,
 "nbformat_minor": 5
}
